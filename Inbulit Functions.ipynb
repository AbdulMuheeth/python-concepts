{
 "cells": [
  {
   "cell_type": "markdown",
   "id": "61b2fb89",
   "metadata": {},
   "source": [
    "\n",
    "# Inbuilt Functions"
   ]
  },
  {
   "cell_type": "markdown",
   "id": "b70650d5",
   "metadata": {},
   "source": [
    "`dir()` Displays the functions associated with the object"
   ]
  },
  {
   "cell_type": "code",
   "execution_count": 3,
   "id": "b2fc7041",
   "metadata": {},
   "outputs": [
    {
     "name": "stdout",
     "output_type": "stream",
     "text": [
      "['__add__', '__class__', '__class_getitem__', '__contains__', '__delattr__', '__delitem__', '__dir__', '__doc__', '__eq__', '__format__', '__ge__', '__getattribute__', '__getitem__', '__gt__', '__hash__', '__iadd__', '__imul__', '__init__', '__init_subclass__', '__iter__', '__le__', '__len__', '__lt__', '__mul__', '__ne__', '__new__', '__reduce__', '__reduce_ex__', '__repr__', '__reversed__', '__rmul__', '__setattr__', '__setitem__', '__sizeof__', '__str__', '__subclasshook__', 'append', 'clear', 'copy', 'count', 'extend', 'index', 'insert', 'pop', 'remove', 'reverse', 'sort']\n"
     ]
    }
   ],
   "source": [
    "print(dir(list))"
   ]
  },
  {
   "cell_type": "markdown",
   "id": "3b5ef195",
   "metadata": {},
   "source": [
    "`enumerate()` adds a counter to an iterator and returns it in a form of enumerate object."
   ]
  },
  {
   "cell_type": "code",
   "execution_count": 5,
   "id": "a2a1239f",
   "metadata": {},
   "outputs": [],
   "source": [
    "fruits = ['apple','banana','mango']"
   ]
  },
  {
   "cell_type": "code",
   "execution_count": 8,
   "id": "c143b763",
   "metadata": {},
   "outputs": [
    {
     "name": "stdout",
     "output_type": "stream",
     "text": [
      "0 apple,1 banana,2 mango,\n",
      "5 apple,6 banana,7 mango,"
     ]
    }
   ],
   "source": [
    "for idx,ele in enumerate(fruits):\n",
    "    print(idx,ele,end=\",\")\n",
    "print()\n",
    "for idx,ele in enumerate(fruits,5):\n",
    "    print(idx,ele,end=\",\")"
   ]
  },
  {
   "cell_type": "markdown",
   "id": "c86bf9db",
   "metadata": {},
   "source": [
    " ### Aggregate functions"
   ]
  },
  {
   "cell_type": "code",
   "execution_count": 11,
   "id": "c8d52813",
   "metadata": {},
   "outputs": [],
   "source": [
    "nums = [1,2,3,4,5]"
   ]
  },
  {
   "cell_type": "code",
   "execution_count": 12,
   "id": "60eadc94",
   "metadata": {},
   "outputs": [
    {
     "data": {
      "text/plain": [
       "15"
      ]
     },
     "execution_count": 12,
     "metadata": {},
     "output_type": "execute_result"
    }
   ],
   "source": [
    "sum(nums)"
   ]
  },
  {
   "cell_type": "code",
   "execution_count": 16,
   "id": "b9617f7e",
   "metadata": {},
   "outputs": [
    {
     "name": "stdout",
     "output_type": "stream",
     "text": [
      "5\n",
      "1\n"
     ]
    }
   ],
   "source": [
    "print(max(nums))\n",
    "print(min(nums))"
   ]
  },
  {
   "cell_type": "markdown",
   "id": "d24a172d",
   "metadata": {},
   "source": [
    "### Map"
   ]
  },
  {
   "cell_type": "markdown",
   "id": "421ed20b",
   "metadata": {},
   "source": [
    "**Map** applies a function to all items in the iterable"
   ]
  },
  {
   "cell_type": "code",
   "execution_count": 17,
   "id": "04ee0ca1",
   "metadata": {},
   "outputs": [],
   "source": [
    "def add_one(x):\n",
    "    return x+1"
   ]
  },
  {
   "cell_type": "code",
   "execution_count": 22,
   "id": "fe015e9b",
   "metadata": {},
   "outputs": [
    {
     "name": "stdout",
     "output_type": "stream",
     "text": [
      "<map object at 0x0000019C781B86A0>\n"
     ]
    },
    {
     "data": {
      "text/plain": [
       "[2, 3, 4, 5, 6]"
      ]
     },
     "execution_count": 22,
     "metadata": {},
     "output_type": "execute_result"
    }
   ],
   "source": [
    "map_ele = map(add_one,nums)\n",
    "print(map_ele)\n",
    "list(map_ele)"
   ]
  },
  {
   "cell_type": "code",
   "execution_count": 21,
   "id": "24b30d60",
   "metadata": {},
   "outputs": [
    {
     "data": {
      "text/plain": [
       "[2, 3, 4, 5, 6]"
      ]
     },
     "execution_count": 21,
     "metadata": {},
     "output_type": "execute_result"
    }
   ],
   "source": [
    "list(map(lambda x:x+1,nums))"
   ]
  },
  {
   "cell_type": "markdown",
   "id": "57db6dec",
   "metadata": {},
   "source": [
    "### Filter\n",
    "**Filter** creates an iterable from elements of iterable for which function return **True**"
   ]
  },
  {
   "cell_type": "code",
   "execution_count": 23,
   "id": "df8dbeed",
   "metadata": {},
   "outputs": [],
   "source": [
    "def is_even(x):\n",
    "    return x%2==0"
   ]
  },
  {
   "cell_type": "code",
   "execution_count": 24,
   "id": "141cd57b",
   "metadata": {},
   "outputs": [
    {
     "name": "stdout",
     "output_type": "stream",
     "text": [
      "<filter object at 0x0000019C78266700>\n",
      "[2, 4]\n"
     ]
    }
   ],
   "source": [
    "filter_ele = filter(is_even,nums)\n",
    "print(filter_ele)\n",
    "print(list(filter_ele))"
   ]
  },
  {
   "cell_type": "code",
   "execution_count": 27,
   "id": "4e1cb45e",
   "metadata": {},
   "outputs": [
    {
     "data": {
      "text/plain": [
       "[2, 4]"
      ]
     },
     "execution_count": 27,
     "metadata": {},
     "output_type": "execute_result"
    }
   ],
   "source": [
    "list(filter(lambda x:x%2==0,nums))"
   ]
  },
  {
   "cell_type": "markdown",
   "id": "e302579a",
   "metadata": {},
   "source": [
    "### Reduce\n",
    "- **Reduce** performs some computation on a list and returning the result\n",
    "- It applies a rolling computation to sequential pairs of values in a list"
   ]
  },
  {
   "cell_type": "code",
   "execution_count": 28,
   "id": "cd15f4a9",
   "metadata": {},
   "outputs": [],
   "source": [
    "def product(x,y):\n",
    "    return x*y"
   ]
  },
  {
   "cell_type": "code",
   "execution_count": 30,
   "id": "6ca20626",
   "metadata": {},
   "outputs": [],
   "source": [
    "from functools import reduce"
   ]
  },
  {
   "cell_type": "code",
   "execution_count": 31,
   "id": "de49eb70",
   "metadata": {},
   "outputs": [
    {
     "data": {
      "text/plain": [
       "120"
      ]
     },
     "execution_count": 31,
     "metadata": {},
     "output_type": "execute_result"
    }
   ],
   "source": [
    "reduce(product,nums)"
   ]
  },
  {
   "cell_type": "markdown",
   "id": "268929c2",
   "metadata": {},
   "source": [
    "#### Approach\n",
    "eg: [1,2,3,4,5]\n",
    "- [2,3,4,5]\n",
    "- [6,4,5]\n",
    "- [24,5]\n",
    "- 120\n"
   ]
  },
  {
   "cell_type": "code",
   "execution_count": 35,
   "id": "b1363190",
   "metadata": {},
   "outputs": [
    {
     "data": {
      "text/plain": [
       "7"
      ]
     },
     "execution_count": 35,
     "metadata": {},
     "output_type": "execute_result"
    }
   ],
   "source": [
    "eval('3^4')"
   ]
  }
 ],
 "metadata": {
  "kernelspec": {
   "display_name": "Python 3 (ipykernel)",
   "language": "python",
   "name": "python3"
  },
  "language_info": {
   "codemirror_mode": {
    "name": "ipython",
    "version": 3
   },
   "file_extension": ".py",
   "mimetype": "text/x-python",
   "name": "python",
   "nbconvert_exporter": "python",
   "pygments_lexer": "ipython3",
   "version": "3.9.7"
  },
  "widgets": {
   "application/vnd.jupyter.widget-state+json": {
    "state": {},
    "version_major": 2,
    "version_minor": 0
   }
  }
 },
 "nbformat": 4,
 "nbformat_minor": 5
}
