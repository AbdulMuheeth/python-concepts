{
 "cells": [
  {
   "cell_type": "code",
   "execution_count": 48,
   "id": "447b395f",
   "metadata": {},
   "outputs": [],
   "source": [
    "# Base Class\n",
    "\n",
    "class Human:\n",
    "    #class varibles\n",
    "    database = []\n",
    "    population = 0\n",
    "    id_seq = 101\n",
    "    \n",
    "    def __init__(self,name,age,is_alive=True):\n",
    "        # instance variables\n",
    "            # or also called as\n",
    "        # attribute references\n",
    "        self.name = name\n",
    "        self.age = age\n",
    "        self.is_alive = is_alive\n",
    "        \n",
    "        # updating/modifying with/from class attributes\n",
    "        self.id = Human.id_seq\n",
    "        Human.population +=1\n",
    "        Human.id_seq +=1\n",
    "        \n",
    "        Human.database.append(self) # storing the instance to the database\n",
    "    \n",
    "    #instance method\n",
    "    def self_call(self):\n",
    "        return Human.population\n",
    "    def introduce(self):\n",
    "        return \"Hi, My name is {}\".format(self.name)\n",
    "    def die(self):\n",
    "        if(self.is_alive):\n",
    "            print(\"{} is died\".format(self.name))\n",
    "            self.is_alive = False\n",
    "            Human.population -=1\n",
    "        else:\n",
    "            print(\"{} was already dead\".format(self.name))\n",
    "    def __repr__(self):\n",
    "        \"\"\"This method returns a string \"\"\"\n",
    "        return \"[{}, {}, {}, {}]\".format(self.id,self.name,self.age,self.is_alive)"
   ]
  },
  {
   "cell_type": "code",
   "execution_count": 49,
   "id": "9d16d19b",
   "metadata": {},
   "outputs": [],
   "source": [
    "# Derived Class\n",
    "class Hitman(Human):\n",
    "    \n",
    "    # re-initializing the constructor to add additional instance varibles to the a hitman instance\n",
    "    def __init__(self,name,age):\n",
    "        super().__init__(name,age)\n",
    "        \n",
    "        self.kills = 0\n",
    "        self.kill_list = []\n",
    "    \n",
    "    # method \n",
    "    def kill(self,person):\n",
    "        if(person.is_alive):\n",
    "            print(\"{} killed {}\".format(self.name,person.name))\n",
    "            person.die()\n",
    "            self.kills = 0\n",
    "            self.kill_list.append(person)\n",
    "        else:\n",
    "            print(\"{} was already dead\".format(person.name))\n",
    "        "
   ]
  },
  {
   "cell_type": "code",
   "execution_count": 50,
   "id": "3e6bd941",
   "metadata": {},
   "outputs": [],
   "source": [
    "h1 = Human(\"Muheeth\",19)\n",
    "h2 = Human(\"demoUser\",19)"
   ]
  },
  {
   "cell_type": "code",
   "execution_count": 51,
   "id": "3ae355e1",
   "metadata": {},
   "outputs": [
    {
     "name": "stdout",
     "output_type": "stream",
     "text": [
      "2\n"
     ]
    }
   ],
   "source": [
    "print(Human.population)"
   ]
  },
  {
   "cell_type": "code",
   "execution_count": 52,
   "id": "cb0ebb28",
   "metadata": {},
   "outputs": [
    {
     "ename": "TypeError",
     "evalue": "__init__() missing 2 required positional arguments: 'name' and 'age'",
     "output_type": "error",
     "traceback": [
      "\u001b[1;31m---------------------------------------------------------------------------\u001b[0m",
      "\u001b[1;31mTypeError\u001b[0m                                 Traceback (most recent call last)",
      "\u001b[1;32m~\\AppData\\Local\\Temp/ipykernel_22684/1512437575.py\u001b[0m in \u001b[0;36m<module>\u001b[1;34m\u001b[0m\n\u001b[1;32m----> 1\u001b[1;33m \u001b[0mhit\u001b[0m \u001b[1;33m=\u001b[0m \u001b[0mHitman\u001b[0m\u001b[1;33m(\u001b[0m\u001b[1;33m)\u001b[0m \u001b[1;31m# error because we are not passing the values for initilazition which is used in the Base Class Constructor\u001b[0m\u001b[1;33m\u001b[0m\u001b[1;33m\u001b[0m\u001b[0m\n\u001b[0m",
      "\u001b[1;31mTypeError\u001b[0m: __init__() missing 2 required positional arguments: 'name' and 'age'"
     ]
    }
   ],
   "source": [
    "hit = Hitman() # error because we are not passing the values for initilazition which is used in the Base Class Constructor"
   ]
  },
  {
   "cell_type": "code",
   "execution_count": 53,
   "id": "3c3555c8",
   "metadata": {},
   "outputs": [],
   "source": [
    "hit = Hitman(\"bond\",35)"
   ]
  },
  {
   "cell_type": "code",
   "execution_count": 54,
   "id": "4f64e946",
   "metadata": {},
   "outputs": [
    {
     "name": "stdout",
     "output_type": "stream",
     "text": [
      "bond\n",
      "3\n",
      "[[101, Muheeth, 19, True], [102, demoUser, 19, True], [103, bond, 35, True]]\n",
      "Hitman kills  0\n",
      "Hitman kills  []\n"
     ]
    }
   ],
   "source": [
    "print(hit.name)\n",
    "print(Human.population)\n",
    "print(Human.database)\n",
    "print(\"Hitman kills \",hit.kills)     # these are only for the hit instances\n",
    "print(\"Hitman kills \",hit.kill_list)"
   ]
  },
  {
   "cell_type": "code",
   "execution_count": 55,
   "id": "74ddf889",
   "metadata": {},
   "outputs": [
    {
     "name": "stdout",
     "output_type": "stream",
     "text": [
      "bond killed demoUser\n",
      "demoUser is died\n"
     ]
    }
   ],
   "source": [
    "hit.kill(h2)"
   ]
  },
  {
   "cell_type": "code",
   "execution_count": 60,
   "id": "0eb5b871",
   "metadata": {},
   "outputs": [
    {
     "name": "stdout",
     "output_type": "stream",
     "text": [
      "2\n",
      "Human db :  [[101, Muheeth, 19, True], [102, demoUser, 19, False], [103, bond, 35, True]]\n",
      "hit's kills :  0\n",
      "kill list :  [[102, demoUser, 19, False]]\n"
     ]
    }
   ],
   "source": [
    "print(Human.population)\n",
    "print(\"Human db : \",Human.database)\n",
    "print(\"hit's kills : \",hit.kills)\n",
    "print(\"kill list : \",hit.kill_list)"
   ]
  },
  {
   "cell_type": "code",
   "execution_count": null,
   "id": "c2ea4183",
   "metadata": {},
   "outputs": [],
   "source": []
  }
 ],
 "metadata": {
  "kernelspec": {
   "display_name": "Python 3 (ipykernel)",
   "language": "python",
   "name": "python3"
  },
  "language_info": {
   "codemirror_mode": {
    "name": "ipython",
    "version": 3
   },
   "file_extension": ".py",
   "mimetype": "text/x-python",
   "name": "python",
   "nbconvert_exporter": "python",
   "pygments_lexer": "ipython3",
   "version": "3.9.7"
  }
 },
 "nbformat": 4,
 "nbformat_minor": 5
}
