{
 "cells": [
  {
   "cell_type": "markdown",
   "id": "f7c26fce",
   "metadata": {},
   "source": [
    "## Every class will by default inherit the Object class\n",
    "- All methods like \\_\\_new\\_\\_ , \\_\\_init\\_\\_ , \\_\\_str\\_\\_ , \\_\\_repr\\_\\_ are the methods from the **Object class**"
   ]
  },
  {
   "cell_type": "markdown",
   "id": "00cbde3a",
   "metadata": {},
   "source": [
    "# Multi Level Inheritence"
   ]
  },
  {
   "cell_type": "code",
   "execution_count": 42,
   "id": "d5e90632",
   "metadata": {},
   "outputs": [],
   "source": [
    "class A:\n",
    "    def m(self):\n",
    "        print(\"I am inside the class A\")\n",
    "class B(A):\n",
    "    def m1(self):\n",
    "        print(\"I am inside the class B\")\n",
    "\n",
    "class C(A):\n",
    "    def m1(self):\n",
    "        print(\"I am inside the C\")\n",
    "    def m2(self):\n",
    "        print(\"I am inside the C\")\n"
   ]
  },
  {
   "cell_type": "code",
   "execution_count": 43,
   "id": "19df8847",
   "metadata": {},
   "outputs": [],
   "source": [
    "a = A()\n",
    "b = B()\n",
    "c = C()"
   ]
  },
  {
   "cell_type": "code",
   "execution_count": 44,
   "id": "2f4d350f",
   "metadata": {},
   "outputs": [
    {
     "name": "stdout",
     "output_type": "stream",
     "text": [
      "I am inside the class A\n"
     ]
    }
   ],
   "source": [
    "a.m()"
   ]
  },
  {
   "cell_type": "code",
   "execution_count": 45,
   "id": "3b26f4f7",
   "metadata": {},
   "outputs": [
    {
     "name": "stdout",
     "output_type": "stream",
     "text": [
      "I am inside the class A\n",
      "I am inside the class B\n"
     ]
    }
   ],
   "source": [
    "b.m()\n",
    "b.m1()"
   ]
  },
  {
   "cell_type": "code",
   "execution_count": 46,
   "id": "bd9be850",
   "metadata": {},
   "outputs": [
    {
     "name": "stdout",
     "output_type": "stream",
     "text": [
      "I am inside the class A\n",
      "I am inside the C\n",
      "I am inside the C\n"
     ]
    }
   ],
   "source": [
    "c.m()\n",
    "c.m1()\n",
    "c.m2()"
   ]
  },
  {
   "cell_type": "markdown",
   "id": "6838ea3b",
   "metadata": {},
   "source": [
    "# Multiple Inheritence"
   ]
  },
  {
   "cell_type": "code",
   "execution_count": 53,
   "id": "f6cd766b",
   "metadata": {},
   "outputs": [],
   "source": [
    "class A:\n",
    "    def m1(self):\n",
    "        print(\"Inside the A\")\n",
    "class B:\n",
    "    def m2(self):\n",
    "        print(\"Inside the B\")\n",
    "    def m(self):\n",
    "        print(\"Inside the B\")\n",
    "class C(A,B):\n",
    "    def m2(self):\n",
    "        print(\"Inside the C\")\n",
    "    def m3(self):\n",
    "        print(\"Inside the C\")"
   ]
  },
  {
   "cell_type": "code",
   "execution_count": 54,
   "id": "818d60d5",
   "metadata": {},
   "outputs": [],
   "source": [
    "c = C()"
   ]
  },
  {
   "cell_type": "code",
   "execution_count": 59,
   "id": "810e7dcc",
   "metadata": {},
   "outputs": [
    {
     "name": "stdout",
     "output_type": "stream",
     "text": [
      "Inside the A\n",
      "Inside the C\n",
      "Inside the C\n",
      "Inside the A\n"
     ]
    }
   ],
   "source": [
    "c.m1()\n",
    "c.m2()\n",
    "c.m3()\n",
    "c.m()"
   ]
  },
  {
   "cell_type": "markdown",
   "id": "8616eaf1",
   "metadata": {},
   "source": [
    "# Method Resolution Order (MRO)"
   ]
  },
  {
   "cell_type": "code",
   "execution_count": 60,
   "id": "4c568181",
   "metadata": {},
   "outputs": [],
   "source": [
    "class A:\n",
    "    def m1(self):\n",
    "        print(\"Inside the A\")\n",
    "    def m(self):\n",
    "        print(\"Inside the A\")\n",
    "class B:\n",
    "    def m2(self):\n",
    "        print(\"Inside the B\")\n",
    "    def m(self):\n",
    "        print(\"Inside the B\")\n",
    "class C(A,B):\n",
    "    def m2(self):\n",
    "        print(\"Inside the C\")\n",
    "    def m3(self):\n",
    "        print(\"Inside the C\")"
   ]
  },
  {
   "cell_type": "code",
   "execution_count": 61,
   "id": "9bf53865",
   "metadata": {},
   "outputs": [],
   "source": [
    "c = C()"
   ]
  },
  {
   "cell_type": "code",
   "execution_count": 62,
   "id": "aa8b409d",
   "metadata": {},
   "outputs": [
    {
     "name": "stdout",
     "output_type": "stream",
     "text": [
      "Inside the A\n"
     ]
    }
   ],
   "source": [
    "c.m()"
   ]
  },
  {
   "cell_type": "markdown",
   "id": "86742a37",
   "metadata": {},
   "source": [
    "### Here MRO will tell the order in which the class checked for the properties or methods"
   ]
  },
  {
   "cell_type": "code",
   "execution_count": 64,
   "id": "3d307d53",
   "metadata": {},
   "outputs": [
    {
     "data": {
      "text/plain": [
       "[__main__.C, __main__.A, __main__.B, object]"
      ]
     },
     "execution_count": 64,
     "metadata": {},
     "output_type": "execute_result"
    }
   ],
   "source": [
    "C.mro()"
   ]
  },
  {
   "cell_type": "markdown",
   "id": "dd0c493c",
   "metadata": {},
   "source": [
    "#### Hence First C class will be checked then A -> B -> object"
   ]
  },
  {
   "cell_type": "code",
   "execution_count": null,
   "id": "53effea2",
   "metadata": {},
   "outputs": [],
   "source": []
  }
 ],
 "metadata": {
  "kernelspec": {
   "display_name": "Python 3 (ipykernel)",
   "language": "python",
   "name": "python3"
  },
  "language_info": {
   "codemirror_mode": {
    "name": "ipython",
    "version": 3
   },
   "file_extension": ".py",
   "mimetype": "text/x-python",
   "name": "python",
   "nbconvert_exporter": "python",
   "pygments_lexer": "ipython3",
   "version": "3.9.7"
  }
 },
 "nbformat": 4,
 "nbformat_minor": 5
}
