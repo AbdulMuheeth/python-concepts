{
 "cells": [
  {
   "cell_type": "markdown",
   "id": "8d6b6f40",
   "metadata": {},
   "source": [
    "# class\n",
    "- A class is user defined **Blue Print** of a real world entity. Eg. Human,Car\n",
    "- It represents the set of properties and methods that are common to all objects of one type.\n",
    "- class - datatype"
   ]
  },
  {
   "cell_type": "code",
   "execution_count": 12,
   "id": "c8186423",
   "metadata": {},
   "outputs": [],
   "source": [
    "class Human:\n",
    "    pass"
   ]
  },
  {
   "cell_type": "markdown",
   "id": "21752e64",
   "metadata": {},
   "source": [
    "# object\n",
    "- It is real world entity i.e, instance of a class\n",
    "- object contains the set of all properties, methods provided by a class\n",
    "- Object: variable"
   ]
  },
  {
   "cell_type": "code",
   "execution_count": 11,
   "id": "342f9932",
   "metadata": {},
   "outputs": [],
   "source": [
    "muheeth = Human()"
   ]
  },
  {
   "cell_type": "markdown",
   "id": "8cdf7642",
   "metadata": {},
   "source": [
    "### \\_\\_main\\_\\_\n",
    "**\\_\\_main\\_\\_** is present before the class name because **class**\n",
    " definition is present in the same file from the instance creation"
   ]
  },
  {
   "cell_type": "code",
   "execution_count": 4,
   "id": "46e95220",
   "metadata": {},
   "outputs": [
    {
     "data": {
      "text/plain": [
       "__main__.Human"
      ]
     },
     "execution_count": 4,
     "metadata": {},
     "output_type": "execute_result"
    }
   ],
   "source": [
    "type(muheeth)"
   ]
  },
  {
   "cell_type": "markdown",
   "id": "b933c37c",
   "metadata": {},
   "source": [
    "### \\_\\_name\\_\\_\n",
    "**\\_\\_name\\_\\_** is present before the class name because **class**\n",
    " definition is present in the different file from the instance creation"
   ]
  },
  {
   "cell_type": "code",
   "execution_count": 8,
   "id": "e99ccb4b",
   "metadata": {},
   "outputs": [
    {
     "data": {
      "text/plain": [
       "sample.sample"
      ]
     },
     "execution_count": 8,
     "metadata": {},
     "output_type": "execute_result"
    }
   ],
   "source": [
    "import sample\n",
    "hi = sample.sample()\n",
    "type(hi)"
   ]
  },
  {
   "cell_type": "markdown",
   "id": "ff211d6b",
   "metadata": {},
   "source": [
    "## constructor\n",
    "- A constructor is special member function of a class that is executed whenever a new object of that class is created.\n",
    "- It is generally used to initialize the properties of the class for the that particular instance of object\n",
    "    - i.e, instance variables or attribute references\n",
    "        - instance varibles are always associated with the objects (i.e, instances)"
   ]
  },
  {
   "cell_type": "code",
   "execution_count": 32,
   "id": "36f561e6",
   "metadata": {},
   "outputs": [],
   "source": [
    "class Human:\n",
    "    def __init__(self,name,age):\n",
    "        # instance variables\n",
    "            # or also called as\n",
    "        # attribute references\n",
    "        self.name = name\n",
    "        self.age = age\n",
    "    \n",
    "    #instance method\n",
    "    def self_call(self):\n",
    "        return self\n",
    "    def introduce(self):\n",
    "        return \"Hi, My name is {}\".format(self.name) # name is not used instead of the self.name because name tells searches for local varible in the class (class varibles)\n",
    "                                                            # where as self.name is checked in the objects instance created i.e, through self\n",
    "    "
   ]
  },
  {
   "cell_type": "code",
   "execution_count": 33,
   "id": "e6531f23",
   "metadata": {},
   "outputs": [],
   "source": [
    "h1 = Human(\"Muheeth\",19)"
   ]
  },
  {
   "cell_type": "code",
   "execution_count": 36,
   "id": "e556f475",
   "metadata": {},
   "outputs": [
    {
     "name": "stdout",
     "output_type": "stream",
     "text": [
      "demoUser\n",
      "19\n",
      "<__main__.Human object at 0x000001A41DD48BB0>\n",
      "<__main__.Human object at 0x000001A41DD48BB0>\n",
      "Hi, My name is demoUser\n",
      "Hi, My name is demoUser\n"
     ]
    }
   ],
   "source": [
    "print(h1.name)\n",
    "print(h1.age)\n",
    "print(h1.self_call())\n",
    "print(h1)\n",
    "print(h1.introduce())\n",
    "h1.name = \"demoUser\"  # chaning the instance varible values of an instance\n",
    "print(h1.introduce())"
   ]
  },
  {
   "cell_type": "markdown",
   "id": "4e4c4fbb",
   "metadata": {},
   "source": [
    "### Class Variables\n",
    "- They are always associated with the classes\n",
    "- They are created inside a class outside any functions\n"
   ]
  },
  {
   "cell_type": "code",
   "execution_count": 49,
   "id": "2267081d",
   "metadata": {},
   "outputs": [],
   "source": [
    "class Human:\n",
    "    #class varibles\n",
    "    database = []\n",
    "    population = 0\n",
    "    id_seq = 101\n",
    "    \n",
    "    def __init__(self,name,age,is_alive=True):\n",
    "        # instance variables\n",
    "            # or also called as\n",
    "        # attribute references\n",
    "        self.name = name\n",
    "        self.age = age\n",
    "        self.is_alive = is_alive\n",
    "        \n",
    "        # updating/modifying with/from class attributes\n",
    "        self.id = Human.id_seq\n",
    "        Human.population +=1\n",
    "        Human.id_seq +=1\n",
    "        \n",
    "        Human.database.append(self) # storing the instance to the database\n",
    "    \n",
    "    #instance method\n",
    "    def self_call(self):\n",
    "        return Human.population\n",
    "    def introduce(self):\n",
    "        return \"Hi, My name is {}\".format(self.name)"
   ]
  },
  {
   "cell_type": "code",
   "execution_count": 50,
   "id": "2eecde22",
   "metadata": {},
   "outputs": [],
   "source": [
    "h1 = Human(\"Muheeth\",19)"
   ]
  },
  {
   "cell_type": "code",
   "execution_count": 51,
   "id": "ea4fcd51",
   "metadata": {},
   "outputs": [
    {
     "data": {
      "text/plain": [
       "1"
      ]
     },
     "execution_count": 51,
     "metadata": {},
     "output_type": "execute_result"
    }
   ],
   "source": [
    "Human.population # class variables can only be accessed with a Class Name"
   ]
  },
  {
   "cell_type": "code",
   "execution_count": 53,
   "id": "5b45eac2",
   "metadata": {},
   "outputs": [
    {
     "data": {
      "text/plain": [
       "1"
      ]
     },
     "execution_count": 53,
     "metadata": {},
     "output_type": "execute_result"
    }
   ],
   "source": [
    "h1.self_call()"
   ]
  },
  {
   "cell_type": "code",
   "execution_count": 54,
   "id": "52d4cb41",
   "metadata": {},
   "outputs": [],
   "source": [
    "h2 = Human(\"demoUser\",19)"
   ]
  },
  {
   "cell_type": "code",
   "execution_count": 59,
   "id": "97ac7704",
   "metadata": {},
   "outputs": [
    {
     "name": "stdout",
     "output_type": "stream",
     "text": [
      "2\n",
      "2\n"
     ]
    }
   ],
   "source": [
    "print(h1.self_call())   # i.e, the class varibles are common to all instances of a class when value is class varible is changed it's change can be seen in the all instances\n",
    "print(h2.self_call())"
   ]
  },
  {
   "cell_type": "code",
   "execution_count": 60,
   "id": "7e0e0fc8",
   "metadata": {},
   "outputs": [
    {
     "data": {
      "text/plain": [
       "['Muheeth', 'demoUser']"
      ]
     },
     "execution_count": 60,
     "metadata": {},
     "output_type": "execute_result"
    }
   ],
   "source": [
    "list(map(lambda human:human.name,Human.database))"
   ]
  },
  {
   "cell_type": "markdown",
   "id": "a2ca5644",
   "metadata": {},
   "source": [
    "### Another Methods"
   ]
  },
  {
   "cell_type": "code",
   "execution_count": 62,
   "id": "bb6ff6ff",
   "metadata": {},
   "outputs": [],
   "source": [
    "class Human:\n",
    "    #class varibles\n",
    "    database = []\n",
    "    population = 0\n",
    "    id_seq = 101\n",
    "    \n",
    "    def __init__(self,name,age,is_alive=True):\n",
    "        # instance variables\n",
    "            # or also called as\n",
    "        # attribute references\n",
    "        self.name = name\n",
    "        self.age = age\n",
    "        self.is_alive = is_alive\n",
    "        \n",
    "        # updating/modifying with/from class attributes\n",
    "        self.id = Human.id_seq\n",
    "        Human.population +=1\n",
    "        Human.id_seq +=1\n",
    "        \n",
    "        Human.database.append(self) # storing the instance to the database\n",
    "    \n",
    "    #instance method\n",
    "    def self_call(self):\n",
    "        return Human.population\n",
    "    def introduce(self):\n",
    "        return \"Hi, My name is {}\".format(self.name)\n",
    "    def die(self):\n",
    "        if(self.is_alive):\n",
    "            print(\"{} is died\".format(self.name))\n",
    "            self.is_alive = False\n",
    "            Human.population -=1\n",
    "        else:\n",
    "            print(\"{} was already dead\".format(self.name))"
   ]
  },
  {
   "cell_type": "code",
   "execution_count": 63,
   "id": "503800cc",
   "metadata": {},
   "outputs": [],
   "source": [
    "h1 = Human(\"Muheeth\",19)\n",
    "h2 = Human(\"demoUser\",19)"
   ]
  },
  {
   "cell_type": "code",
   "execution_count": 64,
   "id": "1f2fd2bb",
   "metadata": {},
   "outputs": [
    {
     "data": {
      "text/plain": [
       "2"
      ]
     },
     "execution_count": 64,
     "metadata": {},
     "output_type": "execute_result"
    }
   ],
   "source": [
    "Human.population"
   ]
  },
  {
   "cell_type": "code",
   "execution_count": 65,
   "id": "ccccbda2",
   "metadata": {},
   "outputs": [
    {
     "name": "stdout",
     "output_type": "stream",
     "text": [
      "demoUser is died\n"
     ]
    }
   ],
   "source": [
    "h2.die()"
   ]
  },
  {
   "cell_type": "code",
   "execution_count": 66,
   "id": "dc1f23f4",
   "metadata": {},
   "outputs": [
    {
     "data": {
      "text/plain": [
       "1"
      ]
     },
     "execution_count": 66,
     "metadata": {},
     "output_type": "execute_result"
    }
   ],
   "source": [
    "Human.population"
   ]
  },
  {
   "cell_type": "markdown",
   "id": "f6dfe3a9",
   "metadata": {},
   "source": [
    "## Magic Functions\n",
    "- They are called automatically when some particulat event occur\n",
    "eg: \\_\\_repr\\_\\_ ( this is called when ever an list or tuple or object is called is print ), \\_\\_init\\_\\_ , \\_\\_str\\_\\_"
   ]
  },
  {
   "cell_type": "code",
   "execution_count": 80,
   "id": "19819455",
   "metadata": {},
   "outputs": [],
   "source": [
    "class Human:\n",
    "    #class varibles\n",
    "    database = []\n",
    "    population = 0\n",
    "    id_seq = 101\n",
    "    \n",
    "    def __init__(self,name,age,is_alive=True):\n",
    "        # instance variables\n",
    "            # or also called as\n",
    "        # attribute references\n",
    "        self.name = name\n",
    "        self.age = age\n",
    "        self.is_alive = is_alive\n",
    "        \n",
    "        # updating/modifying with/from class attributes\n",
    "        self.id = Human.id_seq\n",
    "        Human.population +=1\n",
    "        Human.id_seq +=1\n",
    "        \n",
    "        Human.database.append(self) # storing the instance to the database\n",
    "    \n",
    "    #instance method\n",
    "    def self_call(self):\n",
    "        return Human.population\n",
    "    def introduce(self):\n",
    "        return \"Hi, My name is {}\".format(self.name)\n",
    "    def die(self):\n",
    "        if(self.is_alive):\n",
    "            print(\"{} is died\".format(self.name))\n",
    "            self.is_alive = False\n",
    "            Human.population -=1\n",
    "        else:\n",
    "            print(\"{} was already dead\".format(self.name))\n",
    "    def __repr__(self):\n",
    "        \"\"\"This method returns a string \"\"\"\n",
    "        return \"[{}, {}, {}, {}]\".format(self.id,self.name,self.age,self.is_alive)\n",
    "#     def __str__(self):\n",
    "#         return \"this is str method\""
   ]
  },
  {
   "cell_type": "code",
   "execution_count": 81,
   "id": "c8657906",
   "metadata": {},
   "outputs": [],
   "source": [
    "h1 = Human(\"Muheeth\",19)\n",
    "h2 = Human(\"demoUser\",19)"
   ]
  },
  {
   "cell_type": "code",
   "execution_count": 82,
   "id": "b502d7ea",
   "metadata": {},
   "outputs": [
    {
     "name": "stdout",
     "output_type": "stream",
     "text": [
      "this is str method\n"
     ]
    }
   ],
   "source": [
    "print(h1)"
   ]
  },
  {
   "cell_type": "code",
   "execution_count": 83,
   "id": "c532ab02",
   "metadata": {},
   "outputs": [
    {
     "name": "stdout",
     "output_type": "stream",
     "text": [
      "[[101, Muheeth, 19, True], [102, demoUser, 19, True]]\n"
     ]
    }
   ],
   "source": [
    "print(Human.database)"
   ]
  },
  {
   "cell_type": "code",
   "execution_count": 84,
   "id": "48a82fbc",
   "metadata": {},
   "outputs": [
    {
     "name": "stdout",
     "output_type": "stream",
     "text": [
      "<class '__main__.Human'>\n"
     ]
    }
   ],
   "source": [
    "print(Human)"
   ]
  },
  {
   "cell_type": "code",
   "execution_count": null,
   "id": "a185bdbc",
   "metadata": {},
   "outputs": [],
   "source": []
  }
 ],
 "metadata": {
  "kernelspec": {
   "display_name": "Python 3 (ipykernel)",
   "language": "python",
   "name": "python3"
  },
  "language_info": {
   "codemirror_mode": {
    "name": "ipython",
    "version": 3
   },
   "file_extension": ".py",
   "mimetype": "text/x-python",
   "name": "python",
   "nbconvert_exporter": "python",
   "pygments_lexer": "ipython3",
   "version": "3.9.7"
  }
 },
 "nbformat": 4,
 "nbformat_minor": 5
}
