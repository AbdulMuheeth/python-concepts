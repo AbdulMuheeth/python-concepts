{
 "cells": [
  {
   "cell_type": "markdown",
   "id": "664cf25e",
   "metadata": {},
   "source": [
    "# Polymorphism\n",
    "- one function can have different functionalities\n",
    "- Polymorphism can be achieved through different ways\n",
    "    - Operator Polymorphism\n",
    "    - Function Level Polymorphism\n",
    "    - class and object based Polymorphism"
   ]
  },
  {
   "cell_type": "markdown",
   "id": "4ecd4f02",
   "metadata": {},
   "source": [
    "# Operator Based Polymorphism\n",
    "- achieve different functionalities using operators like +,-,*,="
   ]
  },
  {
   "cell_type": "code",
   "execution_count": 3,
   "id": "fa50e581",
   "metadata": {},
   "outputs": [
    {
     "name": "stdout",
     "output_type": "stream",
     "text": [
      "Hello, there\n"
     ]
    }
   ],
   "source": [
    "a = \"Hello\"\n",
    "b = \", there\"\n",
    "\n",
    "print(a+b)"
   ]
  },
  {
   "cell_type": "code",
   "execution_count": 5,
   "id": "d21d5dd2",
   "metadata": {},
   "outputs": [
    {
     "name": "stdout",
     "output_type": "stream",
     "text": [
      "15\n"
     ]
    }
   ],
   "source": [
    "a = 10\n",
    "b = 5\n",
    "\n",
    "print(a+b)"
   ]
  },
  {
   "cell_type": "code",
   "execution_count": 6,
   "id": "3d96c5da",
   "metadata": {},
   "outputs": [
    {
     "name": "stdout",
     "output_type": "stream",
     "text": [
      "[1, 2, 3, 4, 5, 6]\n"
     ]
    }
   ],
   "source": [
    "a = [1,2,3]\n",
    "b = [4,5,6]\n",
    "\n",
    "print(a+b)"
   ]
  },
  {
   "cell_type": "markdown",
   "id": "1848bbf0",
   "metadata": {},
   "source": [
    "# Functional Polymorphism"
   ]
  },
  {
   "cell_type": "code",
   "execution_count": 7,
   "id": "3cb2f9c5",
   "metadata": {},
   "outputs": [
    {
     "data": {
      "text/plain": [
       "4"
      ]
     },
     "execution_count": 7,
     "metadata": {},
     "output_type": "execute_result"
    }
   ],
   "source": [
    "a = [1,2,3,4]\n",
    "len(a)"
   ]
  },
  {
   "cell_type": "code",
   "execution_count": 8,
   "id": "86d105cc",
   "metadata": {},
   "outputs": [
    {
     "data": {
      "text/plain": [
       "8"
      ]
     },
     "execution_count": 8,
     "metadata": {},
     "output_type": "execute_result"
    }
   ],
   "source": [
    "a = \"Hi,There\"\n",
    "len(a)"
   ]
  },
  {
   "cell_type": "code",
   "execution_count": 9,
   "id": "1334122e",
   "metadata": {},
   "outputs": [],
   "source": [
    "def sm(*args):\n",
    "    return (sum(args))"
   ]
  },
  {
   "cell_type": "code",
   "execution_count": 11,
   "id": "d241a00f",
   "metadata": {},
   "outputs": [
    {
     "data": {
      "text/plain": [
       "10"
      ]
     },
     "execution_count": 11,
     "metadata": {},
     "output_type": "execute_result"
    }
   ],
   "source": [
    "sm(1,2,3,4)"
   ]
  },
  {
   "cell_type": "code",
   "execution_count": 12,
   "id": "8994bfdb",
   "metadata": {},
   "outputs": [
    {
     "data": {
      "text/plain": [
       "3"
      ]
     },
     "execution_count": 12,
     "metadata": {},
     "output_type": "execute_result"
    }
   ],
   "source": [
    "sm(1,2)"
   ]
  },
  {
   "cell_type": "markdown",
   "id": "ad9ff135",
   "metadata": {},
   "source": [
    "# Class/ Object Level Polymorphism"
   ]
  },
  {
   "cell_type": "markdown",
   "id": "3a958509",
   "metadata": {},
   "source": [
    "**function Overriding** : If derived class has function with same name as the base class then the **Base class's method is overridden by the Derived class's method**"
   ]
  },
  {
   "cell_type": "code",
   "execution_count": 14,
   "id": "ac693e47",
   "metadata": {},
   "outputs": [],
   "source": [
    "class Animal:\n",
    "    def speak(self):\n",
    "        print(\"I will speak\")\n",
    "\n",
    "class Dog(Animal):\n",
    "    #method overriding\n",
    "    def speak(self):\n",
    "        print(\"Bwoff...\")\n",
    "\n",
    "class Cat(Animal):\n",
    "    #method overriding\n",
    "    def speak(self):\n",
    "        print(\"Meoww...\")\n",
    "\n",
    "class Duck(Animal):\n",
    "    #method overriding\n",
    "    def speak(self):\n",
    "        print(\"Qwack...\")"
   ]
  },
  {
   "cell_type": "code",
   "execution_count": 16,
   "id": "84a15415",
   "metadata": {},
   "outputs": [],
   "source": [
    "cat,dog,duck = Cat(),Dog(),Duck()"
   ]
  },
  {
   "cell_type": "code",
   "execution_count": 18,
   "id": "c558b99d",
   "metadata": {
    "scrolled": true
   },
   "outputs": [
    {
     "name": "stdout",
     "output_type": "stream",
     "text": [
      "Meoww...\n",
      "Bwoff...\n",
      "Qwack...\n"
     ]
    }
   ],
   "source": [
    "for i in [cat,dog,duck]:\n",
    "    i.speak()"
   ]
  },
  {
   "cell_type": "code",
   "execution_count": null,
   "id": "2197be8e",
   "metadata": {},
   "outputs": [],
   "source": []
  }
 ],
 "metadata": {
  "kernelspec": {
   "display_name": "Python 3 (ipykernel)",
   "language": "python",
   "name": "python3"
  },
  "language_info": {
   "codemirror_mode": {
    "name": "ipython",
    "version": 3
   },
   "file_extension": ".py",
   "mimetype": "text/x-python",
   "name": "python",
   "nbconvert_exporter": "python",
   "pygments_lexer": "ipython3",
   "version": "3.9.7"
  }
 },
 "nbformat": 4,
 "nbformat_minor": 5
}
